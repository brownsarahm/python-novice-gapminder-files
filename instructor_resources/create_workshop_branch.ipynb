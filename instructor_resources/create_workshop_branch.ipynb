{
 "cells": [
  {
   "cell_type": "markdown",
   "metadata": {},
   "source": [
    "# Recipe for creating a workshop branch for students\n",
    "\n",
    "The first step is to create the branch"
   ]
  },
  {
   "cell_type": "code",
   "execution_count": 1,
   "metadata": {},
   "outputs": [
    {
     "name": "stderr",
     "output_type": "stream",
     "text": [
      "Switched to a new branch 'testworkshop'\n"
     ]
    }
   ],
   "source": [
    "%%bash\n",
    "cd ..\n",
    "git checkout -b testworkshop"
   ]
  },
  {
   "cell_type": "markdown",
   "metadata": {},
   "source": [
    "Next edit .gitignore.  This can be done right here by executing the load, splitting the cell and writing it out with `%%writefile ../.gitignore`"
   ]
  },
  {
   "cell_type": "code",
   "execution_count": null,
   "metadata": {},
   "outputs": [],
   "source": [
    "# %load ../.gitignore"
   ]
  },
  {
   "cell_type": "code",
   "execution_count": 3,
   "metadata": {},
   "outputs": [
    {
     "name": "stdout",
     "output_type": "stream",
     "text": [
      "Overwriting ../.gitignore\n"
     ]
    }
   ],
   "source": [
    "%%writefile ../.gitignore\n",
    "# always ignore this, it's cache that shouldn't be shared\n",
    ".ipynb_checkpoints/\n",
    "\n",
    "# uncomment the line below on student branches\n",
    "instructor_resources/"
   ]
  },
  {
   "cell_type": "markdown",
   "metadata": {},
   "source": [
    "Next remove from git the instructor materials, though you want to keep your local copy for future"
   ]
  },
  {
   "cell_type": "code",
   "execution_count": 4,
   "metadata": {},
   "outputs": [
    {
     "name": "stdout",
     "output_type": "stream",
     "text": [
      "rm 'instructor_resources/create_workshop_branch.ipynb'\n",
      "rm 'instructor_resources/post_workshop_README.md'\n"
     ]
    }
   ],
   "source": [
    "%%bash\n",
    "git rm -r --cached ../instructor_resources/"
   ]
  },
  {
   "cell_type": "markdown",
   "metadata": {},
   "source": [
    "Next add the new .gitignore"
   ]
  },
  {
   "cell_type": "code",
   "execution_count": 5,
   "metadata": {},
   "outputs": [
    {
     "name": "stdout",
     "output_type": "stream",
     "text": [
      "[testworkshop 6ab0ebc] preparation for testworkshop\n",
      " 3 files changed, 1 insertion(+), 294 deletions(-)\n",
      " delete mode 100644 instructor_resources/create_workshop_branch.ipynb\n",
      " delete mode 100644 instructor_resources/post_workshop_README.md\n"
     ]
    }
   ],
   "source": [
    "%%bash\n",
    "cd ..\n",
    "git add .gitignore\n",
    "git commit -m 'preparation for testworkshop'"
   ]
  },
  {
   "cell_type": "markdown",
   "metadata": {},
   "source": [
    "We stil have it locally, but it's removed from tracking"
   ]
  },
  {
   "cell_type": "code",
   "execution_count": 6,
   "metadata": {},
   "outputs": [
    {
     "name": "stdout",
     "output_type": "stream",
     "text": [
      "code\n",
      "data\n",
      "instructor_resources\n",
      "worksheets\n"
     ]
    }
   ],
   "source": [
    "%%bash\n",
    "cd ..\n",
    "ls"
   ]
  },
  {
   "cell_type": "markdown",
   "metadata": {},
   "source": [
    "Now we can push the workshop branch"
   ]
  },
  {
   "cell_type": "code",
   "execution_count": 7,
   "metadata": {},
   "outputs": [
    {
     "name": "stdout",
     "output_type": "stream",
     "text": [
      "Branch testworkshop set up to track remote branch testworkshop from origin.\n"
     ]
    },
    {
     "name": "stderr",
     "output_type": "stream",
     "text": [
      "To https://github.com/brownsarahm/python-novice-gapminder-files.git\n",
      " * [new branch]      testworkshop -> testworkshop\n"
     ]
    }
   ],
   "source": [
    "%%bash\n",
    "git push --set-upstream origin testworkshop"
   ]
  },
  {
   "cell_type": "markdown",
   "metadata": {},
   "source": [
    "Now you can distribute the .zip link to students for the branch just created"
   ]
  },
  {
   "cell_type": "markdown",
   "metadata": {},
   "source": [
    "# Create a secondary .zip download\n"
   ]
  },
  {
   "cell_type": "markdown",
   "metadata": {},
   "source": [
    "Create a branch for the secndary download"
   ]
  },
  {
   "cell_type": "code",
   "execution_count": 24,
   "metadata": {},
   "outputs": [
    {
     "name": "stderr",
     "output_type": "stream",
     "text": [
      "Switched to a new branch 'testworkshoppt2'\n"
     ]
    }
   ],
   "source": [
    "%%bash\n",
    "cd ..\n",
    "git checkout -b testworkshoppt2"
   ]
  },
  {
   "cell_type": "markdown",
   "metadata": {},
   "source": [
    "Create a directory for your part 1 files"
   ]
  },
  {
   "cell_type": "code",
   "execution_count": 25,
   "metadata": {},
   "outputs": [],
   "source": [
    "%%bash\n",
    "mkdir ../part1"
   ]
  },
  {
   "cell_type": "markdown",
   "metadata": {},
   "source": [
    "Add your part 1 files, for the sake of example, we use touch below, but this would be copying them to the folder"
   ]
  },
  {
   "cell_type": "code",
   "execution_count": 26,
   "metadata": {},
   "outputs": [],
   "source": [
    "%%bash\n",
    "touch ../part1/part_1_ref.txt"
   ]
  },
  {
   "cell_type": "markdown",
   "metadata": {},
   "source": [
    "\n",
    "Edit .gitignore to ignore any files that do not need to be re-downloaded by learners"
   ]
  },
  {
   "cell_type": "code",
   "execution_count": null,
   "metadata": {},
   "outputs": [],
   "source": [
    "# %load ../.gitignore"
   ]
  },
  {
   "cell_type": "code",
   "execution_count": 27,
   "metadata": {},
   "outputs": [
    {
     "name": "stdout",
     "output_type": "stream",
     "text": [
      "Overwriting ../.gitignore\n"
     ]
    }
   ],
   "source": [
    "%%writefile ../.gitignore\n",
    "# always ignore this, it's cache that shouldn't be shared\n",
    ".ipynb_checkpoints/\n",
    "\n",
    "# uncomment the line below on student branches\n",
    "instructor_resources/\n",
    "\n",
    "#students already have and don't needd new copies\n",
    "code/\n",
    "data/\n",
    "#worksheets/ #commented assuming that was changed"
   ]
  },
  {
   "cell_type": "markdown",
   "metadata": {},
   "source": [
    "git rm ignored files"
   ]
  },
  {
   "cell_type": "code",
   "execution_count": 28,
   "metadata": {},
   "outputs": [
    {
     "name": "stdout",
     "output_type": "stream",
     "text": [
      "rm 'code/ex_builtin.py'\n",
      "rm 'code/ex_conditional.py'\n",
      "rm 'code/ex_dataframe.py'\n",
      "rm 'code/ex_functions.py'\n",
      "rm 'code/ex_functions.py.1'\n",
      "rm 'code/ex_library.py'\n",
      "rm 'code/ex_lists.py'\n",
      "rm 'code/ex_looping_data.py'\n",
      "rm 'code/ex_looping_data.py.1'\n",
      "rm 'code/ex_loops.py'\n",
      "rm 'code/ex_loops.py.1'\n",
      "rm 'code/ex_plotting.py'\n",
      "rm 'code/ex_swap.py'\n",
      "rm 'code/ex_tabular.py'\n",
      "rm 'code/ex_types.py'\n",
      "rm 'code/ex_vars.py'\n",
      "rm 'code/notebook_hints.md'\n",
      "rm 'data/asia_gdp_per_capita.csv'\n",
      "rm 'data/gapminder_all.csv'\n",
      "rm 'data/gapminder_gdp_africa.csv'\n",
      "rm 'data/gapminder_gdp_americas.csv'\n",
      "rm 'data/gapminder_gdp_asia.csv'\n",
      "rm 'data/gapminder_gdp_europe.csv'\n",
      "rm 'data/gapminder_gdp_oceania.csv'\n"
     ]
    }
   ],
   "source": [
    "%%bash\n",
    "cd ..\n",
    "git rm -r --cached code\n",
    "git rm -r --cached data"
   ]
  },
  {
   "cell_type": "markdown",
   "metadata": {},
   "source": [
    "Add changes "
   ]
  },
  {
   "cell_type": "code",
   "execution_count": 29,
   "metadata": {},
   "outputs": [
    {
     "name": "stdout",
     "output_type": "stream",
     "text": [
      "On branch testworkshoppt2\n",
      "Changes to be committed:\n",
      "  (use \"git reset HEAD <file>...\" to unstage)\n",
      "\n",
      "\tdeleted:    ../code/ex_builtin.py\n",
      "\tdeleted:    ../code/ex_conditional.py\n",
      "\tdeleted:    ../code/ex_dataframe.py\n",
      "\tdeleted:    ../code/ex_functions.py\n",
      "\tdeleted:    ../code/ex_functions.py.1\n",
      "\tdeleted:    ../code/ex_library.py\n",
      "\tdeleted:    ../code/ex_lists.py\n",
      "\tdeleted:    ../code/ex_looping_data.py\n",
      "\tdeleted:    ../code/ex_looping_data.py.1\n",
      "\tdeleted:    ../code/ex_loops.py\n",
      "\tdeleted:    ../code/ex_loops.py.1\n",
      "\tdeleted:    ../code/ex_plotting.py\n",
      "\tdeleted:    ../code/ex_swap.py\n",
      "\tdeleted:    ../code/ex_tabular.py\n",
      "\tdeleted:    ../code/ex_types.py\n",
      "\tdeleted:    ../code/ex_vars.py\n",
      "\tdeleted:    ../code/notebook_hints.md\n",
      "\tdeleted:    ../data/asia_gdp_per_capita.csv\n",
      "\tdeleted:    ../data/gapminder_all.csv\n",
      "\tdeleted:    ../data/gapminder_gdp_africa.csv\n",
      "\tdeleted:    ../data/gapminder_gdp_americas.csv\n",
      "\tdeleted:    ../data/gapminder_gdp_asia.csv\n",
      "\tdeleted:    ../data/gapminder_gdp_europe.csv\n",
      "\tdeleted:    ../data/gapminder_gdp_oceania.csv\n",
      "\n",
      "Changes not staged for commit:\n",
      "  (use \"git add <file>...\" to update what will be committed)\n",
      "  (use \"git checkout -- <file>...\" to discard changes in working directory)\n",
      "\n",
      "\tmodified:   ../.gitignore\n",
      "\n",
      "Untracked files:\n",
      "  (use \"git add <file>...\" to include in what will be committed)\n",
      "\n",
      "\t../part1/\n",
      "\n"
     ]
    }
   ],
   "source": [
    "%%bash \n",
    "git status"
   ]
  },
  {
   "cell_type": "code",
   "execution_count": 30,
   "metadata": {},
   "outputs": [
    {
     "name": "stdout",
     "output_type": "stream",
     "text": [
      "[testworkshoppt2 5e9a7ac] preparation for part 2\n",
      " 26 files changed, 6 insertions(+), 939 deletions(-)\n",
      " delete mode 100644 code/ex_builtin.py\n",
      " delete mode 100644 code/ex_conditional.py\n",
      " delete mode 100644 code/ex_dataframe.py\n",
      " delete mode 100644 code/ex_functions.py\n",
      " delete mode 100644 code/ex_functions.py.1\n",
      " delete mode 100644 code/ex_library.py\n",
      " delete mode 100644 code/ex_lists.py\n",
      " delete mode 100644 code/ex_looping_data.py\n",
      " delete mode 100644 code/ex_looping_data.py.1\n",
      " delete mode 100644 code/ex_loops.py\n",
      " delete mode 100644 code/ex_loops.py.1\n",
      " delete mode 100644 code/ex_plotting.py\n",
      " delete mode 100644 code/ex_swap.py\n",
      " delete mode 100644 code/ex_tabular.py\n",
      " delete mode 100644 code/ex_types.py\n",
      " delete mode 100644 code/ex_vars.py\n",
      " delete mode 100644 code/notebook_hints.md\n",
      " delete mode 100644 data/asia_gdp_per_capita.csv\n",
      " delete mode 100644 data/gapminder_all.csv\n",
      " delete mode 100644 data/gapminder_gdp_africa.csv\n",
      " delete mode 100644 data/gapminder_gdp_americas.csv\n",
      " delete mode 100644 data/gapminder_gdp_asia.csv\n",
      " delete mode 100644 data/gapminder_gdp_europe.csv\n",
      " delete mode 100644 data/gapminder_gdp_oceania.csv\n",
      " create mode 100644 part1/part_1_ref.txt\n"
     ]
    }
   ],
   "source": [
    "%%bash\n",
    "cd ..\n",
    "git add .\n",
    "git commit -m 'preparation for part 2'"
   ]
  },
  {
   "cell_type": "markdown",
   "metadata": {},
   "source": [
    "Push these changes"
   ]
  },
  {
   "cell_type": "code",
   "execution_count": 31,
   "metadata": {},
   "outputs": [
    {
     "name": "stdout",
     "output_type": "stream",
     "text": [
      "Branch testworkshoppt2 set up to track remote branch testworkshoppt2 from origin.\n"
     ]
    },
    {
     "name": "stderr",
     "output_type": "stream",
     "text": [
      "To https://github.com/brownsarahm/python-novice-gapminder-files.git\n",
      " * [new branch]      testworkshoppt2 -> testworkshoppt2\n"
     ]
    }
   ],
   "source": [
    "%%bash\n",
    "git push --set-upstream origin testworkshoppt2"
   ]
  },
  {
   "cell_type": "markdown",
   "metadata": {},
   "source": [
    "Now the learners can download just the day 2 materials"
   ]
  },
  {
   "cell_type": "code",
   "execution_count": 33,
   "metadata": {},
   "outputs": [],
   "source": [
    "%%bash\n",
    "git ls-files"
   ]
  },
  {
   "cell_type": "markdown",
   "metadata": {},
   "source": [
    "# Create post workshop page \n",
    "\n",
    "After the full workshop, the students have learned git and can use that to download the final materials. Again, this will be a new branch"
   ]
  },
  {
   "cell_type": "code",
   "execution_count": 34,
   "metadata": {},
   "outputs": [
    {
     "name": "stderr",
     "output_type": "stream",
     "text": [
      "Switched to a new branch 'posttestworkshop'\n"
     ]
    }
   ],
   "source": [
    "%%bash\n",
    "cd ..\n",
    "git checkout -b posttestworkshop"
   ]
  },
  {
   "cell_type": "markdown",
   "metadata": {},
   "source": [
    "Add part 2 materials"
   ]
  },
  {
   "cell_type": "code",
   "execution_count": 35,
   "metadata": {},
   "outputs": [],
   "source": [
    "%%bash\n",
    "cd ..\n",
    "mkdir part2\n",
    "touch part2/instructor_notes.txt"
   ]
  },
  {
   "cell_type": "markdown",
   "metadata": {},
   "source": [
    "Edit .gitignore again.\n",
    "\n",
    "students should be able to download full copy of repository, so that is a full reference"
   ]
  },
  {
   "cell_type": "code",
   "execution_count": null,
   "metadata": {},
   "outputs": [],
   "source": [
    "# %load ../.gitignore"
   ]
  },
  {
   "cell_type": "code",
   "execution_count": 37,
   "metadata": {},
   "outputs": [
    {
     "name": "stdout",
     "output_type": "stream",
     "text": [
      "Overwriting ../.gitignore\n"
     ]
    }
   ],
   "source": [
    "%%writefile ../.gitignore\n",
    "# always ignore this, it's cache that shouldn't be shared\n",
    ".ipynb_checkpoints/\n",
    "\n",
    "# uncomment the line below on student branches\n",
    "instructor_resources/"
   ]
  },
  {
   "cell_type": "markdown",
   "metadata": {},
   "source": [
    "Add the post workshop readme from the instructor resources"
   ]
  },
  {
   "cell_type": "code",
   "execution_count": 38,
   "metadata": {},
   "outputs": [],
   "source": [
    "%%bash\n",
    "cd ..\n",
    "cp instructor_resources/post_workshop_README.md README.md"
   ]
  },
  {
   "cell_type": "markdown",
   "metadata": {},
   "source": [
    "And change the readme to have up to date branch names"
   ]
  },
  {
   "cell_type": "code",
   "execution_count": null,
   "metadata": {},
   "outputs": [],
   "source": [
    "# %load ../README.md"
   ]
  },
  {
   "cell_type": "code",
   "execution_count": 40,
   "metadata": {},
   "outputs": [
    {
     "name": "stdout",
     "output_type": "stream",
     "text": [
      "Overwriting ../README.md\n"
     ]
    }
   ],
   "source": [
    "%%writefile ../README.md\n",
    "# Test Post Workshop Python Downloads\n",
    "\n",
    "I used github to host the content that you downloaded as zip files this weekend. I used a branch ucsf on Saturday to have your downloaded zip name be python-novie-gapminder-files-ucsf/ on Sunday, I made a different branch that was only the new files for the mornign download.  The current branch ucsfpostworkshop contains my files from both days. \n",
    "\n",
    "## First Time Download\n",
    "\n",
    "The command below will download the repository and the branch ucsfpostworkshop so that you can have all of the content. \n",
    "\n",
    "```bash\n",
    "git clone https://github.com/brownsarahm/python-novice-gapminder-files.git --branch posttestworkshop\n",
    "```\n",
    "\n",
    "\n",
    "## Just updates\n",
    "\n",
    "If you made it to the very end of the workshop and already downloaded the content once you can use the following to pull just the updates that I made after the workshop finished. \n",
    "\n",
    "```bash\n",
    "cd your/actual/path/python-novice-gapminder-files/\n",
    "git pull\n",
    "```\n",
    "\n",
    "If you downloaded and made changes to the notebooks, your merge may fail, with a warning about which of your changes will be overwritten.  Since Jupyter notebooks are not plain text files, it can be hard to merge them. You have a few options for dealing with this.  \n",
    "\n",
    "If you just ran the notebooks and didn't make any changes that are important fo you to keep you can reset it to the last commit (which will be one of mine) with\n",
    "\n",
    "```bash\n",
    "git reset HEAD --hard\n",
    "```\n",
    "\n",
    "Then you should be able to pull.\n",
    "\n",
    "If you made changes that you want to keep, you can change the filenames of those notebooks, then git will be able to pull my changes without caring that you have other files.  \n",
    "\n",
    "```bash\n",
    "mv original_notebook.ipynb my_copy_original_notebook.ipynb\n",
    "```\n",
    "\n",
    "Now, git pull should work. If you still have problems, submit an issue on this reposity that includes all of the steps you did. "
   ]
  },
  {
   "cell_type": "markdown",
   "metadata": {},
   "source": [
    "Now, add and push the changes"
   ]
  },
  {
   "cell_type": "code",
   "execution_count": 41,
   "metadata": {},
   "outputs": [
    {
     "name": "stdout",
     "output_type": "stream",
     "text": [
      "On branch posttestworkshop\n",
      "Changes not staged for commit:\n",
      "  (use \"git add <file>...\" to update what will be committed)\n",
      "  (use \"git checkout -- <file>...\" to discard changes in working directory)\n",
      "\n",
      "\tmodified:   .gitignore\n",
      "\n",
      "Untracked files:\n",
      "  (use \"git add <file>...\" to include in what will be committed)\n",
      "\n",
      "\tREADME.md\n",
      "\tcode/\n",
      "\tdata/\n",
      "\tpart2/\n",
      "\n",
      "no changes added to commit (use \"git add\" and/or \"git commit -a\")\n"
     ]
    }
   ],
   "source": [
    "%%bash\n",
    "cd ..\n",
    "git status"
   ]
  },
  {
   "cell_type": "code",
   "execution_count": 42,
   "metadata": {},
   "outputs": [
    {
     "name": "stdout",
     "output_type": "stream",
     "text": [
      "[posttestworkshop c3e02da] initial post workshop\n",
      " 27 files changed, 978 insertions(+), 6 deletions(-)\n",
      " create mode 100644 README.md\n",
      " create mode 100644 code/ex_builtin.py\n",
      " create mode 100644 code/ex_conditional.py\n",
      " create mode 100644 code/ex_dataframe.py\n",
      " create mode 100644 code/ex_functions.py\n",
      " create mode 100644 code/ex_functions.py.1\n",
      " create mode 100644 code/ex_library.py\n",
      " create mode 100644 code/ex_lists.py\n",
      " create mode 100644 code/ex_looping_data.py\n",
      " create mode 100644 code/ex_looping_data.py.1\n",
      " create mode 100644 code/ex_loops.py\n",
      " create mode 100644 code/ex_loops.py.1\n",
      " create mode 100644 code/ex_plotting.py\n",
      " create mode 100644 code/ex_swap.py\n",
      " create mode 100644 code/ex_tabular.py\n",
      " create mode 100644 code/ex_types.py\n",
      " create mode 100644 code/ex_vars.py\n",
      " create mode 100644 code/notebook_hints.md\n",
      " create mode 100644 data/asia_gdp_per_capita.csv\n",
      " create mode 100644 data/gapminder_all.csv\n",
      " create mode 100644 data/gapminder_gdp_africa.csv\n",
      " create mode 100644 data/gapminder_gdp_americas.csv\n",
      " create mode 100644 data/gapminder_gdp_asia.csv\n",
      " create mode 100644 data/gapminder_gdp_europe.csv\n",
      " create mode 100644 data/gapminder_gdp_oceania.csv\n",
      " create mode 100644 part2/instructor_notes.txt\n",
      "Branch posttestworkshop set up to track remote branch posttestworkshop from origin.\n"
     ]
    },
    {
     "name": "stderr",
     "output_type": "stream",
     "text": [
      "To https://github.com/brownsarahm/python-novice-gapminder-files.git\n",
      " * [new branch]      posttestworkshop -> posttestworkshop\n"
     ]
    }
   ],
   "source": [
    "%%bash\n",
    "cd ..\n",
    "git add .\n",
    "git commit -m 'initial post workshop'\n",
    "git push --set-upstream origin posttestworkshop"
   ]
  },
  {
   "cell_type": "markdown",
   "metadata": {},
   "source": [
    "Now make any other changes to files that you might want to make and share the direct repository link with the students to download. For this example:\n",
    " - https://github.com/brownsarahm/python-novice-gapminder-files/tree/posttestworkshop"
   ]
  },
  {
   "cell_type": "markdown",
   "metadata": {},
   "source": [
    "# IMPORTANT NOTE\n",
    "\n",
    "If you want to keep changes you've made to this notebook, before closing it, you need to switch back to master (I lost the first version of this that I made)"
   ]
  },
  {
   "cell_type": "code",
   "execution_count": 43,
   "metadata": {},
   "outputs": [
    {
     "name": "stdout",
     "output_type": "stream",
     "text": [
      "Your branch is up-to-date with 'origin/master'.\n",
      "On branch master\n",
      "Your branch is up-to-date with 'origin/master'.\n",
      "nothing to commit, working directory clean\n"
     ]
    },
    {
     "name": "stderr",
     "output_type": "stream",
     "text": [
      "Switched to branch 'master'\n"
     ]
    }
   ],
   "source": [
    "%%bash\n",
    "git checkout master\n",
    "git status"
   ]
  },
  {
   "cell_type": "markdown",
   "metadata": {},
   "source": [
    "Now save this notebook again. And accept when it asks if you want to overwrite the version on disk. Because at the top of the notebook the branch was changed, the last version of the notebook on disk is from before that first `git checkout` was ran. "
   ]
  },
  {
   "cell_type": "code",
   "execution_count": 44,
   "metadata": {},
   "outputs": [
    {
     "name": "stdout",
     "output_type": "stream",
     "text": [
      "On branch master\n",
      "Your branch is up-to-date with 'origin/master'.\n",
      "Changes not staged for commit:\n",
      "  (use \"git add <file>...\" to update what will be committed)\n",
      "  (use \"git checkout -- <file>...\" to discard changes in working directory)\n",
      "\n",
      "\tmodified:   create_workshop_branch.ipynb\n",
      "\n",
      "no changes added to commit (use \"git add\" and/or \"git commit -a\")\n"
     ]
    }
   ],
   "source": [
    "%%bash\n",
    "git status"
   ]
  },
  {
   "cell_type": "markdown",
   "metadata": {},
   "source": [
    "And add and commit the notebook, changing the message to correspond to what changes were made to these instructions."
   ]
  },
  {
   "cell_type": "code",
   "execution_count": null,
   "metadata": {},
   "outputs": [],
   "source": [
    "%%bash\n",
    "git add .\n",
    "git commit -m 'initial draft of instructions'"
   ]
  }
 ],
 "metadata": {
  "kernelspec": {
   "display_name": "Python 3",
   "language": "python",
   "name": "python3"
  },
  "language_info": {
   "codemirror_mode": {
    "name": "ipython",
    "version": 3
   },
   "file_extension": ".py",
   "mimetype": "text/x-python",
   "name": "python",
   "nbconvert_exporter": "python",
   "pygments_lexer": "ipython3",
   "version": "3.6.4"
  }
 },
 "nbformat": 4,
 "nbformat_minor": 2
}
