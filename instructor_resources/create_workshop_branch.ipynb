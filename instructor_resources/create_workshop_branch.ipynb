{
 "cells": [
  {
   "cell_type": "markdown",
   "metadata": {},
   "source": [
    "# Recipe for creating a workshop branch for students\n",
    "\n",
    "The first step is to create the branch"
   ]
  },
  {
   "cell_type": "code",
   "execution_count": 40,
   "metadata": {},
   "outputs": [
    {
     "name": "stdout",
     "output_type": "stream",
     "text": [
      "D\tinstructor_resources/post_workshop_README.md\n"
     ]
    },
    {
     "name": "stderr",
     "output_type": "stream",
     "text": [
      "Switched to a new branch 'testworkshop'\n"
     ]
    }
   ],
   "source": [
    "%%bash\n",
    "cd ..\n",
    "git checkout -b testworkshop"
   ]
  },
  {
   "cell_type": "markdown",
   "metadata": {},
   "source": [
    "Next edit .gitignore.  This can be done right here by executing the load, splitting the cell and writing it out with `%%writefile ../.gitignore`"
   ]
  },
  {
   "cell_type": "code",
   "execution_count": null,
   "metadata": {},
   "outputs": [],
   "source": [
    "# %load ../.gitignore\n",
    "# always ignore this, it's cache that shouldn't be shared\n",
    ".ipynb_checkpoints/\n",
    "\n",
    "# uncomment the line below on student branches\n",
    "#/instructor_training/"
   ]
  },
  {
   "cell_type": "markdown",
   "metadata": {},
   "source": [
    "Next remove from git the instructor materials, though you want to keep your local copy for future"
   ]
  },
  {
   "cell_type": "code",
   "execution_count": 38,
   "metadata": {},
   "outputs": [
    {
     "name": "stderr",
     "output_type": "stream",
     "text": [
      "fatal: pathspec '../instructor_resources/' did not match any files\n"
     ]
    }
   ],
   "source": [
    "%%bash\n",
    "git rm -r --cached ../instructor_resources/"
   ]
  },
  {
   "cell_type": "markdown",
   "metadata": {},
   "source": [
    "Next add the new .gitignore"
   ]
  },
  {
   "cell_type": "code",
   "execution_count": 30,
   "metadata": {},
   "outputs": [
    {
     "name": "stdout",
     "output_type": "stream",
     "text": [
      "[testworkshop 00b8c00] preparation for testworkshop\n",
      " 1 file changed, 1 insertion(+), 1 deletion(-)\n"
     ]
    }
   ],
   "source": [
    "%%bash\n",
    "cd ..\n",
    "git add .gitignore\n",
    "git commit -m 'preparation for testworkshop'"
   ]
  },
  {
   "cell_type": "markdown",
   "metadata": {},
   "source": [
    "We stil have it locally, but it's removed from tracking"
   ]
  },
  {
   "cell_type": "code",
   "execution_count": 34,
   "metadata": {},
   "outputs": [
    {
     "name": "stdout",
     "output_type": "stream",
     "text": [
      "code\n",
      "data\n",
      "instructor_resources\n",
      "worksheets\n"
     ]
    }
   ],
   "source": [
    "%%bash\n",
    "cd ..\n",
    "ls"
   ]
  },
  {
   "cell_type": "markdown",
   "metadata": {},
   "source": [
    "Now we can push the workshop branch"
   ]
  },
  {
   "cell_type": "code",
   "execution_count": 36,
   "metadata": {},
   "outputs": [
    {
     "name": "stdout",
     "output_type": "stream",
     "text": [
      "Branch testworkshop set up to track remote branch testworkshop from origin.\n"
     ]
    },
    {
     "name": "stderr",
     "output_type": "stream",
     "text": [
      "To https://github.com/brownsarahm/python-novice-gapminder-files.git\n",
      " * [new branch]      testworkshop -> testworkshop\n"
     ]
    }
   ],
   "source": [
    "%%bash\n",
    "git push --set-upstream origin testworkshop"
   ]
  },
  {
   "cell_type": "code",
   "execution_count": 42,
   "metadata": {},
   "outputs": [
    {
     "name": "stdout",
     "output_type": "stream",
     "text": [
      "D\tinstructor_resources/post_workshop_README.md\n",
      "Your branch is ahead of 'origin/master' by 3 commits.\n",
      "  (use \"git push\" to publish your local commits)\n",
      "Deleted branch testworkshop (was c4044cc).\n"
     ]
    },
    {
     "name": "stderr",
     "output_type": "stream",
     "text": [
      "Switched to branch 'master'\n"
     ]
    }
   ],
   "source": [
    "%%bash\n",
    "git checkout master\n",
    "git branch -d testworkshop"
   ]
  },
  {
   "cell_type": "code",
   "execution_count": null,
   "metadata": {},
   "outputs": [],
   "source": [
    "# %load ../.gitignore\n",
    "# always ignore this, it's cache that shouldn't be shared\n",
    ".ipynb_checkpoints/\n",
    "\n",
    "# uncomment the line below on student branches\n",
    "#/instructor_resources/"
   ]
  },
  {
   "cell_type": "code",
   "execution_count": null,
   "metadata": {},
   "outputs": [],
   "source": []
  }
 ],
 "metadata": {
  "kernelspec": {
   "display_name": "Python 3",
   "language": "python",
   "name": "python3"
  },
  "language_info": {
   "codemirror_mode": {
    "name": "ipython",
    "version": 3
   },
   "file_extension": ".py",
   "mimetype": "text/x-python",
   "name": "python",
   "nbconvert_exporter": "python",
   "pygments_lexer": "ipython3",
   "version": "3.6.4"
  }
 },
 "nbformat": 4,
 "nbformat_minor": 2
}
