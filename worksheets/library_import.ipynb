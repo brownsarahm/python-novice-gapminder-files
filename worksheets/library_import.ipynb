{
 "cells": [
  {
   "cell_type": "markdown",
   "metadata": {},
   "source": [
    "# Library Activity\n",
    "\n",
    "For each of the below Library calls, copy and paste in the one of the print commands that will make that print command work. Then run the four library call cells."
   ]
  },
  {
   "cell_type": "markdown",
   "metadata": {},
   "source": [
    "### Print commands:\n",
    "\n",
    "```python\n",
    "print(\"sin(pi/2) =\",sin(pi/2))\n",
    "print(\"sin(pi/2) =\",m.sin(m.pi/2))\n",
    "print(\"sin(pi/2) =\",math.sin(math.pi/2))\n",
    "```"
   ]
  },
  {
   "cell_type": "markdown",
   "metadata": {},
   "source": [
    "### Library calls:"
   ]
  },
  {
   "cell_type": "code",
   "execution_count": null,
   "metadata": {},
   "outputs": [],
   "source": [
    "%writemagic lib1.py\n",
    "from math import sin,pi"
   ]
  },
  {
   "cell_type": "code",
   "execution_count": null,
   "metadata": {},
   "outputs": [],
   "source": [
    "%writemagic lib2.py\n",
    "import math"
   ]
  },
  {
   "cell_type": "code",
   "execution_count": null,
   "metadata": {},
   "outputs": [],
   "source": [
    "%writemagic lib3.py\n",
    "import math as m"
   ]
  },
  {
   "cell_type": "code",
   "execution_count": null,
   "metadata": {},
   "outputs": [],
   "source": [
    "%writemagic lib4.py\n",
    "from math import *"
   ]
  },
  {
   "cell_type": "markdown",
   "metadata": {},
   "source": [
    "Now, launch a new terminal window and navigate to the directory that this notebook is located in.  Run each of the python files that you generated above using a command like this:\n",
    "\n",
    "```bash\n",
    "python lib1.py\n",
    "```\n",
    "\n",
    "If you see the expression print, you got that one right, if you get an error, come back here and try again to fix it then run that cell to overwrite the file and try it again. "
   ]
  }
 ],
 "metadata": {
  "kernelspec": {
   "display_name": "Python 3",
   "language": "python",
   "name": "python3"
  },
  "language_info": {
   "codemirror_mode": {
    "name": "ipython",
    "version": 3
   },
   "file_extension": ".py",
   "mimetype": "text/x-python",
   "name": "python",
   "nbconvert_exporter": "python",
   "pygments_lexer": "ipython3",
   "version": "3.6.4"
  }
 },
 "nbformat": 4,
 "nbformat_minor": 2
}
