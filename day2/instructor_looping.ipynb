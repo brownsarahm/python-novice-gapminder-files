{
 "cells": [
  {
   "cell_type": "markdown",
   "metadata": {},
   "source": [
    "# Loops\n",
    "__Note__: _this workshop is now moved to a new location and for the loads and data to work the path will need to be modified to include '../' prepended to the existing url. _"
   ]
  },
  {
   "cell_type": "code",
   "execution_count": 33,
   "metadata": {},
   "outputs": [
    {
     "name": "stdout",
     "output_type": "stream",
     "text": [
      "1\n",
      "5\n",
      "7\n"
     ]
    }
   ],
   "source": [
    "# number is loop variable\n",
    "# [1,5, 7] is the collection\n",
    "for number in [1,5, 7]:\n",
    "    print(number) # this the body of the loop"
   ]
  },
  {
   "cell_type": "code",
   "execution_count": 34,
   "metadata": {},
   "outputs": [
    {
     "name": "stdout",
     "output_type": "stream",
     "text": [
      "1\n",
      "5\n",
      "7\n"
     ]
    }
   ],
   "source": [
    "for kitten in [1,5,7]:\n",
    "    print (kitten)"
   ]
  },
  {
   "cell_type": "markdown",
   "metadata": {},
   "source": [
    "The colon is important"
   ]
  },
  {
   "cell_type": "code",
   "execution_count": 35,
   "metadata": {},
   "outputs": [
    {
     "ename": "SyntaxError",
     "evalue": "invalid syntax (<ipython-input-35-aaf3469af171>, line 1)",
     "output_type": "error",
     "traceback": [
      "\u001b[0;36m  File \u001b[0;32m\"<ipython-input-35-aaf3469af171>\"\u001b[0;36m, line \u001b[0;32m1\u001b[0m\n\u001b[0;31m    for kitten in [1,5,7]\u001b[0m\n\u001b[0m                         ^\u001b[0m\n\u001b[0;31mSyntaxError\u001b[0m\u001b[0;31m:\u001b[0m invalid syntax\n"
     ]
    }
   ],
   "source": [
    "for kitten in [1,5,7]\n",
    "    print (kitten)"
   ]
  },
  {
   "cell_type": "markdown",
   "metadata": {},
   "source": [
    "Indexing is also very important"
   ]
  },
  {
   "cell_type": "code",
   "execution_count": 36,
   "metadata": {},
   "outputs": [
    {
     "ename": "IndentationError",
     "evalue": "expected an indented block (<ipython-input-36-aa46fb4482b2>, line 2)",
     "output_type": "error",
     "traceback": [
      "\u001b[0;36m  File \u001b[0;32m\"<ipython-input-36-aa46fb4482b2>\"\u001b[0;36m, line \u001b[0;32m2\u001b[0m\n\u001b[0;31m    print (kitten)\u001b[0m\n\u001b[0m        ^\u001b[0m\n\u001b[0;31mIndentationError\u001b[0m\u001b[0;31m:\u001b[0m expected an indented block\n"
     ]
    }
   ],
   "source": [
    "for kitten in [1,5,7]:\n",
    "print (kitten)"
   ]
  },
  {
   "cell_type": "markdown",
   "metadata": {},
   "source": [
    "Loops can have multiple lines"
   ]
  },
  {
   "cell_type": "code",
   "execution_count": 37,
   "metadata": {},
   "outputs": [
    {
     "name": "stdout",
     "output_type": "stream",
     "text": [
      "2 4 8\n",
      "3 9 27\n",
      "5 25 125\n"
     ]
    }
   ],
   "source": [
    "primes = [2,3,5]\n",
    "for p in primes:\n",
    "    squared = p**2\n",
    "    cubed = p **3\n",
    "    print(p, squared, cubed)"
   ]
  },
  {
   "cell_type": "markdown",
   "metadata": {},
   "source": [
    "The range function allows us to loop with numbers in a range"
   ]
  },
  {
   "cell_type": "code",
   "execution_count": 38,
   "metadata": {},
   "outputs": [
    {
     "name": "stdout",
     "output_type": "stream",
     "text": [
      "0\n",
      "1\n",
      "2\n",
      "3\n"
     ]
    }
   ],
   "source": [
    "for number in range(0,4):\n",
    "    print(number)"
   ]
  },
  {
   "cell_type": "markdown",
   "metadata": {},
   "source": [
    "enumerate returns both the index and the value of a list which allows us to have both availabe in our loop"
   ]
  },
  {
   "cell_type": "code",
   "execution_count": 39,
   "metadata": {},
   "outputs": [
    {
     "name": "stdout",
     "output_type": "stream",
     "text": [
      "0 2\n",
      "1 3\n",
      "2 5\n"
     ]
    }
   ],
   "source": [
    "for i,p in enumerate(primes):\n",
    "    print (i, p)"
   ]
  },
  {
   "cell_type": "markdown",
   "metadata": {},
   "source": [
    "Accumulating is a popular recipe"
   ]
  },
  {
   "cell_type": "code",
   "execution_count": 41,
   "metadata": {},
   "outputs": [
    {
     "name": "stdout",
     "output_type": "stream",
     "text": [
      "55\n"
     ]
    }
   ],
   "source": [
    "total = 0\n",
    "for number in range(10):\n",
    "    total = total + number +1\n",
    "    \n",
    "print(total)"
   ]
  },
  {
   "cell_type": "code",
   "execution_count": 42,
   "metadata": {},
   "outputs": [],
   "source": [
    "# %load code/ex_loops"
   ]
  },
  {
   "cell_type": "markdown",
   "metadata": {},
   "source": [
    "## Loop Excercise\n",
    "use the markdown table template below to trace the output of the cell below. add\n",
    "lines to the table as needed\n",
    "\n",
    "| Line no | Variables            |\n",
    "|---------|----------------------|\n",
    "|    1    | `total = 0`          |\n",
    "|    2    | `total = 0`, `char = 't'` |\n",
    "|    3    |  `total = 1` , `char ='t'`|\n",
    "|    2    |  `total =1 ` , `char ='i'`|\n",
    "|    3    |  `total = 2` , `char ='i'`|\n",
    "|    2    |  `total = 2` , `char ='n'`|\n",
    "|    3    |  `total = 3` , `char ='n'`|\n",
    "\n",
    "_hint: in command mode of a notebook, you can turn on line numbers of a code\n",
    "cell by pressing l_"
   ]
  },
  {
   "cell_type": "code",
   "execution_count": 43,
   "metadata": {},
   "outputs": [],
   "source": [
    "total = 0\n",
    "for char in \"tin\":\n",
    "    total = total + 1"
   ]
  },
  {
   "cell_type": "code",
   "execution_count": 45,
   "metadata": {},
   "outputs": [
    {
     "name": "stdout",
     "output_type": "stream",
     "text": [
      "working...\n",
      "t\n",
      "it\n",
      "nit\n",
      "loop finished\n",
      "nit\n"
     ]
    }
   ],
   "source": [
    "## Loop Excercise 2 -\n",
    "# fill in the blanks to  complete each of the following\n",
    "\n",
    "# reverse the string and print nit\n",
    "original = \"tin\"\n",
    "result = ''\n",
    "print('working...')\n",
    "for char in original:\n",
    "    result = char + result\n",
    "    print(result)\n",
    "print('loop finished')\n",
    "print(result)"
   ]
  },
  {
   "cell_type": "code",
   "execution_count": 46,
   "metadata": {},
   "outputs": [
    {
     "name": "stdout",
     "output_type": "stream",
     "text": [
      "12\n"
     ]
    }
   ],
   "source": [
    "# Total length of the strings in the list: [\"red\", \"green\", \"blue\"] => 12\n",
    "total = 0\n",
    "for word in [\"red\", \"green\", \"blue\"]:\n",
    "    total = total + len(word)\n",
    "print(total)"
   ]
  },
  {
   "cell_type": "code",
   "execution_count": 47,
   "metadata": {},
   "outputs": [
    {
     "name": "stdout",
     "output_type": "stream",
     "text": [
      "[3, 5, 4]\n"
     ]
    }
   ],
   "source": [
    "#  List of word lengths: [\"red\", \"green\", \"blue\"] => [3, 5, 4]\n",
    "lengths = []\n",
    "for word in [\"red\", \"green\", \"blue\"]:\n",
    "    lengths.append(len(word))\n",
    "print(lengths)"
   ]
  },
  {
   "cell_type": "code",
   "execution_count": 48,
   "metadata": {},
   "outputs": [
    {
     "name": "stdout",
     "output_type": "stream",
     "text": [
      "redgreenblue\n"
     ]
    }
   ],
   "source": [
    "# Concatenate all words: [\"red\", \"green\", \"blue\"] => \"redgreenblue\"\n",
    "words = [\"red\", \"green\", \"blue\"]\n",
    "result = ''\n",
    "for word in words:\n",
    "    result = result + word\n",
    "print(result)"
   ]
  },
  {
   "cell_type": "code",
   "execution_count": 50,
   "metadata": {},
   "outputs": [
    {
     "name": "stdout",
     "output_type": "stream",
     "text": [
      "RGB\n"
     ]
    }
   ],
   "source": [
    "# Create acronym: [\"red\", \"green\", \"blue\"] => \"RGB\"\n",
    "# write the whole thing\n",
    "import string\n",
    "result = ''\n",
    "for word in [\"red\", \"green\", \"blue\"]:\n",
    "    result = result + word[0].upper()\n",
    "    \n",
    "print(result)"
   ]
  },
  {
   "cell_type": "markdown",
   "metadata": {},
   "source": [
    "## List Excercise 3\n",
    "1. Read the code below and try to identify what the errors are without running it.\n",
    "1. Run the code, and read the error message. What type of error is it?\n",
    "1. Fix the error."
   ]
  },
  {
   "cell_type": "code",
   "execution_count": 51,
   "metadata": {},
   "outputs": [
    {
     "ename": "IndexError",
     "evalue": "list index out of range",
     "output_type": "error",
     "traceback": [
      "\u001b[0;31m---------------------------------------------------------------------------\u001b[0m",
      "\u001b[0;31mIndexError\u001b[0m                                Traceback (most recent call last)",
      "\u001b[0;32m<ipython-input-51-c82c08095380>\u001b[0m in \u001b[0;36m<module>\u001b[0;34m()\u001b[0m\n\u001b[1;32m      1\u001b[0m \u001b[0mseasons\u001b[0m \u001b[0;34m=\u001b[0m \u001b[0;34m[\u001b[0m\u001b[0;34m'Spring'\u001b[0m\u001b[0;34m,\u001b[0m \u001b[0;34m'Summer'\u001b[0m\u001b[0;34m,\u001b[0m \u001b[0;34m'Fall'\u001b[0m\u001b[0;34m,\u001b[0m \u001b[0;34m'Winter'\u001b[0m\u001b[0;34m]\u001b[0m\u001b[0;34m\u001b[0m\u001b[0m\n\u001b[0;32m----> 2\u001b[0;31m \u001b[0mprint\u001b[0m\u001b[0;34m(\u001b[0m\u001b[0;34m'My favorite season is '\u001b[0m\u001b[0;34m,\u001b[0m \u001b[0mseasons\u001b[0m\u001b[0;34m[\u001b[0m\u001b[0;36m4\u001b[0m\u001b[0;34m]\u001b[0m\u001b[0;34m)\u001b[0m\u001b[0;34m\u001b[0m\u001b[0m\n\u001b[0m",
      "\u001b[0;31mIndexError\u001b[0m: list index out of range"
     ]
    }
   ],
   "source": [
    "seasons = ['Spring', 'Summer', 'Fall', 'Winter']\n",
    "print('My favorite season is ', seasons[4])"
   ]
  },
  {
   "cell_type": "markdown",
   "metadata": {},
   "source": [
    "out of range, there are 4 seasons, so the highest index is 3"
   ]
  },
  {
   "cell_type": "code",
   "execution_count": 52,
   "metadata": {},
   "outputs": [
    {
     "name": "stdout",
     "output_type": "stream",
     "text": [
      "My favorite season is  Winter\n"
     ]
    }
   ],
   "source": [
    "seasons = ['Spring', 'Summer', 'Fall', 'Winter']\n",
    "print('My favorite season is ', seasons[3])"
   ]
  },
  {
   "cell_type": "markdown",
   "metadata": {},
   "source": [
    "# Looping over data"
   ]
  },
  {
   "cell_type": "code",
   "execution_count": 53,
   "metadata": {},
   "outputs": [
    {
     "name": "stdout",
     "output_type": "stream",
     "text": [
      "data/gapminder_gdp_africa.csv gdpPercap_1952    298.846212\n",
      "gdpPercap_1957    335.997115\n",
      "gdpPercap_1962    355.203227\n",
      "gdpPercap_1967    412.977514\n",
      "gdpPercap_1972    464.099504\n",
      "gdpPercap_1977    502.319733\n",
      "gdpPercap_1982    462.211415\n",
      "gdpPercap_1987    389.876185\n",
      "gdpPercap_1992    410.896824\n",
      "gdpPercap_1997    312.188423\n",
      "gdpPercap_2002    241.165877\n",
      "gdpPercap_2007    277.551859\n",
      "dtype: float64\n",
      "data/gapminder_gdp_asia.csv gdpPercap_1952    331.0\n",
      "gdpPercap_1957    350.0\n",
      "gdpPercap_1962    388.0\n",
      "gdpPercap_1967    349.0\n",
      "gdpPercap_1972    357.0\n",
      "gdpPercap_1977    371.0\n",
      "gdpPercap_1982    424.0\n",
      "gdpPercap_1987    385.0\n",
      "gdpPercap_1992    347.0\n",
      "gdpPercap_1997    415.0\n",
      "gdpPercap_2002    611.0\n",
      "gdpPercap_2007    944.0\n",
      "dtype: float64\n"
     ]
    }
   ],
   "source": [
    "import pandas as pd\n",
    "\n",
    "for filename in ['data/gapminder_gdp_africa.csv','data/gapminder_gdp_asia.csv']:\n",
    "    data = pd.read_csv(filename, index_col='country')\n",
    "    print(filename,data.min())"
   ]
  },
  {
   "cell_type": "code",
   "execution_count": 54,
   "metadata": {},
   "outputs": [
    {
     "name": "stdout",
     "output_type": "stream",
     "text": [
      "all csv in data/  ['data/gapminder_all.csv', 'data/gapminder_gdp_europe.csv', 'data/gapminder_gdp_asia.csv', 'data/gapminder_gdp_americas.csv', 'data/asia_gdp_per_capita.csv', 'data/gapminder_gdp_africa.csv', 'data/gapminder_gdp_oceania.csv']\n"
     ]
    }
   ],
   "source": [
    "import glob\n",
    "print ('all csv in data/ ', glob.glob('data/*.csv'))"
   ]
  },
  {
   "cell_type": "code",
   "execution_count": 55,
   "metadata": {},
   "outputs": [
    {
     "name": "stdout",
     "output_type": "stream",
     "text": [
      "all pdb in data/  []\n"
     ]
    }
   ],
   "source": [
    "print ('all pdb in data/ ', glob.glob('data/*.pdb'))"
   ]
  },
  {
   "cell_type": "code",
   "execution_count": 56,
   "metadata": {},
   "outputs": [
    {
     "name": "stdout",
     "output_type": "stream",
     "text": [
      "data/gapminder_all.csv continent              Africa\n",
      "country           Afghanistan\n",
      "gdpPercap_1952        298.846\n",
      "gdpPercap_1957        335.997\n",
      "gdpPercap_1962        355.203\n",
      "gdpPercap_1967            349\n",
      "gdpPercap_1972            357\n",
      "gdpPercap_1977            371\n",
      "gdpPercap_1982            424\n",
      "gdpPercap_1987            385\n",
      "gdpPercap_1992            347\n",
      "gdpPercap_1997        312.188\n",
      "gdpPercap_2002        241.166\n",
      "gdpPercap_2007        277.552\n",
      "lifeExp_1952           28.801\n",
      "lifeExp_1957           30.332\n",
      "lifeExp_1962           31.997\n",
      "lifeExp_1967            34.02\n",
      "lifeExp_1972             35.4\n",
      "lifeExp_1977            31.22\n",
      "lifeExp_1982           38.445\n",
      "lifeExp_1987           39.906\n",
      "lifeExp_1992           23.599\n",
      "lifeExp_1997           36.087\n",
      "lifeExp_2002           39.193\n",
      "lifeExp_2007           39.613\n",
      "pop_1952                60011\n",
      "pop_1957                61325\n",
      "pop_1962                65345\n",
      "pop_1967                70787\n",
      "pop_1972                76595\n",
      "pop_1977                86796\n",
      "pop_1982                98593\n",
      "pop_1987               110812\n",
      "pop_1992               125911\n",
      "pop_1997               145608\n",
      "pop_2002               170372\n",
      "pop_2007               199579\n",
      "dtype: object\n",
      "data/gapminder_gdp_europe.csv country           Albania\n",
      "gdpPercap_1952    973.533\n",
      "gdpPercap_1957    1353.99\n",
      "gdpPercap_1962    1709.68\n",
      "gdpPercap_1967    2172.35\n",
      "gdpPercap_1972    2860.17\n",
      "gdpPercap_1977    3528.48\n",
      "gdpPercap_1982    3630.88\n",
      "gdpPercap_1987    3738.93\n",
      "gdpPercap_1992    2497.44\n",
      "gdpPercap_1997    3193.05\n",
      "gdpPercap_2002    4604.21\n",
      "gdpPercap_2007    5937.03\n",
      "dtype: object\n",
      "data/gapminder_gdp_asia.csv country           Afghanistan\n",
      "gdpPercap_1952            331\n",
      "gdpPercap_1957            350\n",
      "gdpPercap_1962            388\n",
      "gdpPercap_1967            349\n",
      "gdpPercap_1972            357\n",
      "gdpPercap_1977            371\n",
      "gdpPercap_1982            424\n",
      "gdpPercap_1987            385\n",
      "gdpPercap_1992            347\n",
      "gdpPercap_1997            415\n",
      "gdpPercap_2002            611\n",
      "gdpPercap_2007            944\n",
      "dtype: object\n",
      "data/gapminder_gdp_americas.csv continent          Americas\n",
      "country           Argentina\n",
      "gdpPercap_1952      1397.72\n",
      "gdpPercap_1957       1544.4\n",
      "gdpPercap_1962      1662.14\n",
      "gdpPercap_1967      1452.06\n",
      "gdpPercap_1972      1654.46\n",
      "gdpPercap_1977       1874.3\n",
      "gdpPercap_1982      2011.16\n",
      "gdpPercap_1987      1823.02\n",
      "gdpPercap_1992      1456.31\n",
      "gdpPercap_1997      1341.73\n",
      "gdpPercap_2002      1270.36\n",
      "gdpPercap_2007      1201.64\n",
      "dtype: object\n",
      "data/asia_gdp_per_capita.csv 'year'                   1952.000000\n",
      "'Afghanistan'             635.341351\n",
      "'Bahrain'                9867.084765\n",
      "'Bangladesh'              630.233627\n",
      "'Cambodia'                368.469286\n",
      "'China'                   400.448611\n",
      "'Hong Kong China'        3054.421209\n",
      "'India'                   546.565749\n",
      "'Indonesia'               749.681655\n",
      "'Iran'                   3035.326002\n",
      "'Iraq'                   3076.239795\n",
      "'Israel'                 4086.522128\n",
      "'Japan'                  3216.956347\n",
      "'Jordan'                 1546.907807\n",
      "'Korea Dem. Rep.'        1088.277758\n",
      "'Korea Rep.'             1030.592226\n",
      "'Kuwait'                28118.429980\n",
      "'Lebanon'                4834.804067\n",
      "'Malaysia'               1810.066992\n",
      "'Mongolia'                786.566857\n",
      "'Myanmar'                 331.000000\n",
      "'Nepal'                   545.865723\n",
      "'Oman'                   1828.230307\n",
      "'Pakistan'                684.597144\n",
      "'Philippines'            1272.880995\n",
      "'Saudi Arabia'           6459.554823\n",
      "'Singapore'              2315.138227\n",
      "'Sri Lanka'              1072.546602\n",
      "'Syria'                  1643.485354\n",
      "'Taiwan'                 1206.947913\n",
      "'Thailand'                757.797418\n",
      "'Vietnam'                 605.066492\n",
      "'West Bank and Gaza'     1515.592329\n",
      "'Yemen Rep.'              781.717576\n",
      "dtype: float64\n",
      "data/gapminder_gdp_africa.csv country           Algeria\n",
      "gdpPercap_1952    298.846\n",
      "gdpPercap_1957    335.997\n",
      "gdpPercap_1962    355.203\n",
      "gdpPercap_1967    412.978\n",
      "gdpPercap_1972      464.1\n",
      "gdpPercap_1977     502.32\n",
      "gdpPercap_1982    462.211\n",
      "gdpPercap_1987    389.876\n",
      "gdpPercap_1992    410.897\n",
      "gdpPercap_1997    312.188\n",
      "gdpPercap_2002    241.166\n",
      "gdpPercap_2007    277.552\n",
      "dtype: object\n",
      "data/gapminder_gdp_oceania.csv country           Australia\n",
      "gdpPercap_1952      10039.6\n",
      "gdpPercap_1957      10949.6\n",
      "gdpPercap_1962      12217.2\n",
      "gdpPercap_1967      14463.9\n",
      "gdpPercap_1972        16046\n",
      "gdpPercap_1977      16233.7\n",
      "gdpPercap_1982      17632.4\n",
      "gdpPercap_1987      19007.2\n",
      "gdpPercap_1992      18363.3\n",
      "gdpPercap_1997      21050.4\n",
      "gdpPercap_2002      23189.8\n",
      "gdpPercap_2007        25185\n",
      "dtype: object\n"
     ]
    }
   ],
   "source": [
    "for filename in glob.glob('data/*.csv'):\n",
    "    data = pd.read_csv(filename)\n",
    "    print(filename, data.min())"
   ]
  },
  {
   "cell_type": "code",
   "execution_count": null,
   "metadata": {},
   "outputs": [],
   "source": [
    "# %load code/ex_looping_data"
   ]
  },
  {
   "cell_type": "markdown",
   "metadata": {},
   "source": [
    "## Data Looping Excercise 1\n",
    "Modify this program so that it prints the number of records in the file that has the fewest records."
   ]
  },
  {
   "cell_type": "code",
   "execution_count": 62,
   "metadata": {},
   "outputs": [
    {
     "name": "stdout",
     "output_type": "stream",
     "text": [
      "smallest file has 2 records\n"
     ]
    }
   ],
   "source": [
    "import pandas\n",
    "fewest = 1e6 # initialize this to a large number\n",
    "for filename in glob.glob('data/*.csv'):\n",
    "    dataframe = pandas.read_csv(filename)\n",
    "    fewest = min(fewest, dataframe.shape[0]) # shape [0] is the number of rows, shape  is (#rows, #cols)\n",
    "print('smallest file has', fewest, 'records')"
   ]
  },
  {
   "cell_type": "markdown",
   "metadata": {},
   "source": [
    "## Data Looping Excercise 2\n",
    "\n",
    "Write a program that reads in the regional data sets and plots the average GDP\n",
    "per capita for each region over time in a single chart."
   ]
  },
  {
   "cell_type": "code",
   "execution_count": 87,
   "metadata": {},
   "outputs": [],
   "source": [
    "%matplotlib inline\n",
    "import matplotlib.pyplot as plt"
   ]
  },
  {
   "cell_type": "code",
   "execution_count": 90,
   "metadata": {},
   "outputs": [
    {
     "data": {
      "text/plain": [
       "<matplotlib.legend.Legend at 0x7f99d86588d0>"
      ]
     },
     "execution_count": 90,
     "metadata": {},
     "output_type": "execute_result"
    },
    {
     "data": {
      "image/png": "[encoded data removed]",
      "text/plain": [
       "<matplotlib.figure.Figure at 0x7f99d86ac3c8>"
      ]
     },
     "metadata": {},
     "output_type": "display_data"
    }
   ],
   "source": [
    "data_files_list = glob.glob('data/gapminder_gdp_*.csv')\n",
    "\n",
    "mean_gdp = []\n",
    "for file in data_files_list:\n",
    "    df = pd.read_csv(file)\n",
    "    df.mean().plot(label=file)\n",
    "    \n",
    "plt.legend(loc='best')"
   ]
  },
  {
   "cell_type": "code",
   "execution_count": 82,
   "metadata": {},
   "outputs": [
    {
     "data": {
      "text/plain": [
       "array([ 5661.05743476,  6963.01281593,  8365.4868143 , 10143.82375653,\n",
       "       12479.57524647, 14283.9791096 , 15617.89655123, 17214.31072663,\n",
       "       17061.5680842 , 19076.7818016 , 21711.73242243, 25054.48163593])"
      ]
     },
     "execution_count": 82,
     "metadata": {},
     "output_type": "execute_result"
    }
   ],
   "source": [
    "df.mean().values"
   ]
  },
  {
   "cell_type": "code",
   "execution_count": null,
   "metadata": {},
   "outputs": [],
   "source": []
  }
 ],
 "metadata": {
  "kernelspec": {
   "display_name": "Python 3",
   "language": "python",
   "name": "python3"
  },
  "language_info": {
   "codemirror_mode": {
    "name": "ipython",
    "version": 3
   },
   "file_extension": ".py",
   "mimetype": "text/x-python",
   "name": "python",
   "nbconvert_exporter": "python",
   "pygments_lexer": "ipython3",
   "version": "3.6.4"
  }
 },
 "nbformat": 4,
 "nbformat_minor": 2
}
