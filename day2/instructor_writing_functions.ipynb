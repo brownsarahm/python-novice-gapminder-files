{
 "cells": [
  {
   "cell_type": "markdown",
   "metadata": {},
   "source": [
    "# Writing Functions"
   ]
  },
  {
   "cell_type": "code",
   "execution_count": 121,
   "metadata": {},
   "outputs": [],
   "source": [
    "def print_greeting():\n",
    "    print('Hello!')"
   ]
  },
  {
   "cell_type": "code",
   "execution_count": 122,
   "metadata": {},
   "outputs": [
    {
     "name": "stdout",
     "output_type": "stream",
     "text": [
      "Hello!\n"
     ]
    }
   ],
   "source": [
    "print_greeting()"
   ]
  },
  {
   "cell_type": "code",
   "execution_count": 123,
   "metadata": {},
   "outputs": [],
   "source": [
    "def print_date(year, month, day):\n",
    "    joined = str(year) + '/' + str(month) + '/' + str(day)\n",
    "    print(joined)"
   ]
  },
  {
   "cell_type": "code",
   "execution_count": 124,
   "metadata": {},
   "outputs": [
    {
     "name": "stdout",
     "output_type": "stream",
     "text": [
      "2018/3/7\n"
     ]
    }
   ],
   "source": [
    "print_date(2018,3,7)"
   ]
  },
  {
   "cell_type": "code",
   "execution_count": 125,
   "metadata": {},
   "outputs": [],
   "source": [
    "def format_date(year, month, day):\n",
    "    joined = str(year) + '/' + str(month) + '/' + str(day)\n",
    "    return joined"
   ]
  },
  {
   "cell_type": "code",
   "execution_count": 126,
   "metadata": {},
   "outputs": [],
   "source": [
    "a = format_date(2018,5,3)"
   ]
  },
  {
   "cell_type": "code",
   "execution_count": 127,
   "metadata": {},
   "outputs": [
    {
     "data": {
      "text/plain": [
       "'2018/5/3'"
      ]
     },
     "execution_count": 127,
     "metadata": {},
     "output_type": "execute_result"
    }
   ],
   "source": [
    "a"
   ]
  },
  {
   "cell_type": "code",
   "execution_count": 128,
   "metadata": {},
   "outputs": [],
   "source": [
    "joined = 'hikjfskjafd'"
   ]
  },
  {
   "cell_type": "code",
   "execution_count": 129,
   "metadata": {},
   "outputs": [
    {
     "data": {
      "text/plain": [
       "'2018/5/3'"
      ]
     },
     "execution_count": 129,
     "metadata": {},
     "output_type": "execute_result"
    }
   ],
   "source": [
    "format_date(2018,5,3)"
   ]
  },
  {
   "cell_type": "code",
   "execution_count": 130,
   "metadata": {},
   "outputs": [
    {
     "data": {
      "text/plain": [
       "'hikjfskjafd'"
      ]
     },
     "execution_count": 130,
     "metadata": {},
     "output_type": "execute_result"
    }
   ],
   "source": [
    "joined"
   ]
  },
  {
   "cell_type": "code",
   "execution_count": 131,
   "metadata": {},
   "outputs": [],
   "source": [
    "# %load code/ex_functions"
   ]
  },
  {
   "cell_type": "markdown",
   "metadata": {},
   "source": [
    "## Functions Excercise 1\n",
    "1. Read the code below and try to identify what the errors are without running it.\n",
    "1. Run the code and read the error message. Is it a SyntaxError or an IndentationError?\n",
    "1. Fix the error.\n",
    "1. Repeat steps 2 and 3 until you have fixed all the errors."
   ]
  },
  {
   "cell_type": "code",
   "execution_count": 132,
   "metadata": {},
   "outputs": [
    {
     "ename": "SyntaxError",
     "evalue": "invalid syntax (<ipython-input-132-35c8a2d5a2ea>, line 1)",
     "output_type": "error",
     "traceback": [
      "\u001b[0;36m  File \u001b[0;32m\"<ipython-input-132-35c8a2d5a2ea>\"\u001b[0;36m, line \u001b[0;32m1\u001b[0m\n\u001b[0;31m    def another_function\u001b[0m\n\u001b[0m                        ^\u001b[0m\n\u001b[0;31mSyntaxError\u001b[0m\u001b[0;31m:\u001b[0m invalid syntax\n"
     ]
    }
   ],
   "source": [
    "def another_function\n",
    "  print(\"Syntax errors are annoying.\")\n",
    "   print(\"But at least python tells us about them!\")\n",
    "  print(\"So they are usually not too hard to fix.\")"
   ]
  },
  {
   "cell_type": "markdown",
   "metadata": {},
   "source": [
    "This says its a syntax error at the end of that line, it's missing a colon, so let's add it."
   ]
  },
  {
   "cell_type": "code",
   "execution_count": null,
   "metadata": {},
   "outputs": [],
   "source": [
    "def another_function:\n",
    "  print(\"Syntax errors are annoying.\")\n",
    "   print(\"But at least python tells us about them!\")\n",
    "  print(\"So they are usually not too hard to fix.\")"
   ]
  },
  {
   "cell_type": "markdown",
   "metadata": {},
   "source": [
    "It's still missing the ()"
   ]
  },
  {
   "cell_type": "code",
   "execution_count": null,
   "metadata": {},
   "outputs": [],
   "source": [
    "def another_function():\n",
    "  print(\"Syntax errors are annoying.\")\n",
    "   print(\"But at least python tells us about them!\")\n",
    "  print(\"So they are usually not too hard to fix.\")"
   ]
  },
  {
   "cell_type": "markdown",
   "metadata": {},
   "source": [
    "Now it's complaining about the indentation level on the second line of the body so lets move that."
   ]
  },
  {
   "cell_type": "code",
   "execution_count": null,
   "metadata": {},
   "outputs": [],
   "source": [
    "def another_function():\n",
    "  print(\"Syntax errors are annoying.\")\n",
    "  print(\"But at least python tells us about them!\")\n",
    "  print(\"So they are usually not too hard to fix.\")"
   ]
  },
  {
   "cell_type": "markdown",
   "metadata": {},
   "source": [
    "Now, the function is defined, with no errors so we can try it out"
   ]
  },
  {
   "cell_type": "code",
   "execution_count": null,
   "metadata": {},
   "outputs": [],
   "source": [
    "another_function()"
   ]
  },
  {
   "cell_type": "markdown",
   "metadata": {},
   "source": [
    "Notice that the notebook still had `print` in red in our function defintion, if we change the indentation, we can resolve that. "
   ]
  },
  {
   "cell_type": "code",
   "execution_count": null,
   "metadata": {},
   "outputs": [],
   "source": [
    "def another_function():\n",
    "    print(\"Syntax errors are annoying.\")\n",
    "    print(\"But at least python tells us about them!\")\n",
    "    print(\"So they are usually not too hard to fix.\")"
   ]
  },
  {
   "cell_type": "code",
   "execution_count": null,
   "metadata": {},
   "outputs": [],
   "source": [
    "## Functions Excercise 2\n",
    "# What does the following cell print? (try to guess before running it)\n",
    "def report(pressure):\n",
    "    print('pressure is', pressure)\n",
    "\n",
    "print('calling', report, 22.5)"
   ]
  },
  {
   "cell_type": "markdown",
   "metadata": {},
   "source": [
    "Since we put report without () it didn't call the functionn, just printed out the function object"
   ]
  },
  {
   "cell_type": "code",
   "execution_count": null,
   "metadata": {},
   "outputs": [],
   "source": [
    "## Functions Excercise 3"
   ]
  },
  {
   "cell_type": "code",
   "execution_count": null,
   "metadata": {},
   "outputs": [],
   "source": [
    "# Fix this code so that it runs:\n",
    "# before\n",
    "result = print_date_new(1871,3,19)\n",
    "\n",
    "def print_date_new(year, month, day):\n",
    "   joined = str(year) + '/' + str(month) + '/' + str(day)\n",
    "   print(joined)"
   ]
  },
  {
   "cell_type": "markdown",
   "metadata": {},
   "source": [
    "This actually worked as loaded because we defined a prtin date in the lesson, but iwth the name cahnged to new it doesn't"
   ]
  },
  {
   "cell_type": "code",
   "execution_count": null,
   "metadata": {},
   "outputs": [],
   "source": [
    "# Fix this code so that it runs:\n",
    "# after\n",
    "\n",
    "def print_date_new(year, month, day):\n",
    "    joined = str(year) + '/' + str(month) + '/' + str(day)\n",
    "    print(joined)\n",
    "    \n",
    "\n",
    "result = print_date_new(1871,3,19)"
   ]
  },
  {
   "cell_type": "code",
   "execution_count": null,
   "metadata": {},
   "outputs": [],
   "source": [
    "## Functions Excercise 4\n",
    "\n",
    "# explain the output of the following code\n",
    "result = print_date(1871, 3, 19) # the fuction prints\n",
    "print('result of call is:', result) # the function didn't return anything"
   ]
  },
  {
   "cell_type": "code",
   "execution_count": null,
   "metadata": {},
   "outputs": [],
   "source": [
    "## Functions Excercise 5\n",
    "# Fill in the blanks to create a function that takes a single filename as an\n",
    "# argument, loads the data in the file named by the argument, and returns the\n",
    "# minimum value in that data.\n",
    "\n",
    "import pandas as pd\n",
    "\n",
    "def min_in_data(filename):\n",
    "    data = pd.read_csv(filename)\n",
    "    return data.min()\n",
    "\n",
    "# Now, create a small data file to test your program above\n",
    "\n",
    "test_data1 = [1,4,8 ,6,4]\n",
    "df = pd.DataFrame(data= test_data1, columns=['val'])\n",
    "df.to_csv('test_data')\n",
    "min_in_data('test_data')"
   ]
  },
  {
   "cell_type": "code",
   "execution_count": null,
   "metadata": {},
   "outputs": [],
   "source": [
    "## Functions Excercise 6\n",
    "\n",
    "df = pd.read_csv('data/gapminder_gdp_asia.csv', index_col=0)\n",
    "japan = df.ix['Japan']\n"
   ]
  },
  {
   "cell_type": "markdown",
   "metadata": {},
   "source": [
    "Note, it give a warning when you use it as loaded (with .ix), the warning recommends using loc, so we'll switch to that"
   ]
  },
  {
   "cell_type": "code",
   "execution_count": null,
   "metadata": {},
   "outputs": [],
   "source": [
    "japan = df.loc['Japan']"
   ]
  },
  {
   "cell_type": "code",
   "execution_count": null,
   "metadata": {},
   "outputs": [],
   "source": [
    "#Complete the statements below to obtain the average GDP for Japan across\n",
    "# the years reported for the 1980s.\n",
    "year = 1983\n",
    "# break here and see what year//10 does\n",
    "year//10"
   ]
  },
  {
   "cell_type": "code",
   "execution_count": null,
   "metadata": {},
   "outputs": [],
   "source": [
    "gdp_decade = 'gdpPercap_' + str(year // 10) # note that this is integer division\n",
    "print(gdp_decade) # lets see what that does\n",
    "avg = (japan.loc[gdp_decade + '2'] + japan.loc[gdp_decade + '7']) / 2"
   ]
  },
  {
   "cell_type": "code",
   "execution_count": null,
   "metadata": {},
   "outputs": [],
   "source": [
    "japan.index"
   ]
  },
  {
   "cell_type": "code",
   "execution_count": null,
   "metadata": {},
   "outputs": [],
   "source": [
    "#Abstract the code above into a single function.\n",
    "def avg_gdp_in_decade(country, continent, year):\n",
    "    df = pd.read_csv('data/gapminder_gdp_'+ continent +'.csv',delimiter=',',index_col=0)\n",
    "    gdp_decade = 'gdpPercap_' + str(year // 10) # note that this is integer division\n",
    "    country_data = df.loc[country]\n",
    "    avg = (country_data.loc[gdp_decade + '2'] + country_data.loc[gdp_decade + '7']) / 2\n",
    "    return avg"
   ]
  },
  {
   "cell_type": "code",
   "execution_count": null,
   "metadata": {},
   "outputs": [],
   "source": [
    "avg_gdp_in_decade('Japan','asia',1983)"
   ]
  },
  {
   "cell_type": "markdown",
   "metadata": {},
   "source": [
    "Look at the list of countries so we can test it some more"
   ]
  },
  {
   "cell_type": "code",
   "execution_count": null,
   "metadata": {},
   "outputs": [],
   "source": [
    "df.index"
   ]
  },
  {
   "cell_type": "code",
   "execution_count": null,
   "metadata": {},
   "outputs": [],
   "source": [
    "avg_gdp_in_decade('Myanmar','asia',1963)"
   ]
  },
  {
   "cell_type": "code",
   "execution_count": null,
   "metadata": {},
   "outputs": [],
   "source": [
    "avg_gdp_in_decade('Singapore','asia',1963)"
   ]
  },
  {
   "cell_type": "code",
   "execution_count": null,
   "metadata": {},
   "outputs": [],
   "source": [
    "avg_gdp_in_decade('Serbia','Europe',1955)"
   ]
  },
  {
   "cell_type": "markdown",
   "metadata": {},
   "source": [
    "If we capitalize the continent, we get an error, but we can import the string library and then use the `.lower()` mehtod to fix that"
   ]
  },
  {
   "cell_type": "code",
   "execution_count": null,
   "metadata": {},
   "outputs": [],
   "source": [
    "#Abstract the code above into a single function.\n",
    "import string\n",
    "def avg_gdp_in_decade(country, continent, year):\n",
    "    df = pd.read_csv('data/gapminder_gdp_'+ continent.lower() +'.csv',delimiter=',',index_col=0)\n",
    "    gdp_decade = 'gdpPercap_' + str(year // 10) # note that this is integer division\n",
    "    country_data = df.loc[country]\n",
    "    avg = (country_data.loc[gdp_decade + '2'] + country_data.loc[gdp_decade + '7']) / 2\n",
    "    return avg"
   ]
  },
  {
   "cell_type": "code",
   "execution_count": null,
   "metadata": {},
   "outputs": [],
   "source": [
    "avg_gdp_in_decade('Serbia','Europe',1955)"
   ]
  },
  {
   "cell_type": "markdown",
   "metadata": {},
   "source": [
    "How would you generalize this function if you did not know beforehand which\n",
    " specific years occurred as columns in the data? For instance, what if we also\n",
    " had data from years ending in 1 and 9 for each decade? (Hint: use the columns\n",
    " to filter out the ones that correspond to the decade, instead of enumerating\n",
    " them in the code.)"
   ]
  },
  {
   "cell_type": "code",
   "execution_count": null,
   "metadata": {},
   "outputs": [],
   "source": [
    "avail_data = japan.index\n",
    "avail_data"
   ]
  },
  {
   "cell_type": "markdown",
   "metadata": {},
   "source": [
    "How can we get a subset of the years that work?"
   ]
  },
  {
   "cell_type": "code",
   "execution_count": null,
   "metadata": {},
   "outputs": [],
   "source": [
    "decade_years_mask = []\n",
    "for col_name in japan.index:\n",
    "    decade_years_mask.append(col_name[-2]=='8')\n",
    "\n",
    "japan[decade_years_mask].mean()"
   ]
  },
  {
   "cell_type": "code",
   "execution_count": null,
   "metadata": {},
   "outputs": [],
   "source": [
    "#Abstract the code above into a single function.\n",
    "import string\n",
    "def avg_gdp_in_decade(country, continent, year):\n",
    "    df = pd.read_csv('data/gapminder_gdp_'+ continent.lower() +'.csv',delimiter=',',index_col=0)\n",
    "    decade_str =str(year)[-2] # note that this is integer division\n",
    "    country_data = df.loc[country]\n",
    "    decade_years_mask = []\n",
    "    for col_name in country_data.index:\n",
    "        decade_years_mask.append(col_name[-2]==decade_str)\n",
    "\n",
    "    avg = country_data[decade_years_mask].mean() # also use mean because this might have more than 2 elemnts\n",
    "    return avg"
   ]
  },
  {
   "cell_type": "code",
   "execution_count": null,
   "metadata": {},
   "outputs": [],
   "source": [
    "avg_gdp_in_decade('Japan','asia',1983)"
   ]
  },
  {
   "cell_type": "markdown",
   "metadata": {},
   "source": [
    "It gives the same answer as above, but it no longer has the 2 and 7 hard coded in "
   ]
  }
 ],
 "metadata": {
  "kernelspec": {
   "display_name": "Python 3",
   "language": "python",
   "name": "python3"
  },
  "language_info": {
   "codemirror_mode": {
    "name": "ipython",
    "version": 3
   },
   "file_extension": ".py",
   "mimetype": "text/x-python",
   "name": "python",
   "nbconvert_exporter": "python",
   "pygments_lexer": "ipython3",
   "version": "3.6.4"
  }
 },
 "nbformat": 4,
 "nbformat_minor": 2
}
